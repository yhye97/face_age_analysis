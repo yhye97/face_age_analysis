{
 "cells": [
  {
   "cell_type": "code",
   "execution_count": 2,
   "metadata": {},
   "outputs": [],
   "source": [
    "import csv\n",
    "urls=[]\n",
    "list1=[]\n",
    "#list1.append('https://www.famousfix.com/list/asian-celebrities')\n",
    "#urls.append(list1)\n",
    "#for i in range(2,60):\n",
    "for i in range(100,150):\n",
    "    list1=[]\n",
    "    a='https://www.famousfix.com/list/asian-celebrities?pageno='+str(i)+'&display_type=gallery&photo_size=medium&sortord=1&facet=&facetval='\n",
    "    list1.append(a)\n",
    "    urls.append(list1)\n",
    "\n",
    "with open(\"asian_celebs_url3.csv\", 'w',encoding='utf-8') as resultFile:\n",
    "    wr = csv.writer(resultFile, dialect='excel')\n",
    "    wr.writerows(urls)\n"
   ]
  },
  {
   "cell_type": "code",
   "execution_count": null,
   "metadata": {},
   "outputs": [],
   "source": []
  }
 ],
 "metadata": {
  "kernelspec": {
   "display_name": "Python 3",
   "language": "python",
   "name": "python3"
  },
  "language_info": {
   "codemirror_mode": {
    "name": "ipython",
    "version": 3
   },
   "file_extension": ".py",
   "mimetype": "text/x-python",
   "name": "python",
   "nbconvert_exporter": "python",
   "pygments_lexer": "ipython3",
   "version": "3.7.1"
  }
 },
 "nbformat": 4,
 "nbformat_minor": 2
}
