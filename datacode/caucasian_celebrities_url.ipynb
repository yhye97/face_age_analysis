{
 "cells": [
  {
   "cell_type": "code",
   "execution_count": 1,
   "metadata": {},
   "outputs": [],
   "source": [
    "import csv\n",
    "urls=[]\n",
    "list1=[]\n",
    "#list1.append('https://www.famousfix.com/list/caucasian-celebrities')\n",
    "#urls.append(list1)\n",
    "#for i in range(2,50):\n",
    "for i in range (50,100):\n",
    "    list1=[]\n",
    "    a='https://www.famousfix.com/list/caucasian-celebrities?pageno='+str(i)+'&display_type=gallery&photo_size=medium&sortord=1&facet=sexuality&facetval=0'\n",
    "    list1.append(a)\n",
    "    urls.append(list1)\n",
    "\n",
    "with open(\"caucasian_celebs2_url.csv\", 'w',encoding='utf-8') as resultFile:\n",
    "    wr = csv.writer(resultFile, dialect='excel')\n",
    "    wr.writerows(urls)\n"
   ]
  },
  {
   "cell_type": "code",
   "execution_count": null,
   "metadata": {},
   "outputs": [],
   "source": []
  }
 ],
 "metadata": {
  "kernelspec": {
   "display_name": "Python 3",
   "language": "python",
   "name": "python3"
  },
  "language_info": {
   "codemirror_mode": {
    "name": "ipython",
    "version": 3
   },
   "file_extension": ".py",
   "mimetype": "text/x-python",
   "name": "python",
   "nbconvert_exporter": "python",
   "pygments_lexer": "ipython3",
   "version": "3.7.1"
  }
 },
 "nbformat": 4,
 "nbformat_minor": 2
}
